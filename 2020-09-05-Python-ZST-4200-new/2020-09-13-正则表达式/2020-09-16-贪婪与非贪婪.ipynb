{
 "cells": [
  {
   "cell_type": "code",
   "execution_count": 1,
   "metadata": {},
   "outputs": [
    {
     "name": "stdout",
     "output_type": "stream",
     "text": [
      "Content: <p style=\"width:200px;\">\t<strong>强调</> <br />\t我是标题1 <br />\t我是正文1</p><p style=\"width:200px;\">\t<strong>强调</> <br />\t我是标题2 <br />\t我是正文2</p>\n"
     ]
    },
    {
     "ename": "TypeError",
     "evalue": "'str' object is not callable",
     "output_type": "error",
     "traceback": [
      "\u001b[1;31m---------------------------------------------------------------------------\u001b[0m",
      "\u001b[1;31mTypeError\u001b[0m                                 Traceback (most recent call last)",
      "\u001b[1;32m<ipython-input-1-eeda61b89298>\u001b[0m in \u001b[0;36m<module>\u001b[1;34m\u001b[0m\n\u001b[0;32m      4\u001b[0m     \u001b[0mprint\u001b[0m\u001b[1;33m(\u001b[0m\u001b[1;34m\"Content: {}\"\u001b[0m\u001b[1;33m.\u001b[0m\u001b[0mformat\u001b[0m\u001b[1;33m(\u001b[0m\u001b[0mcontent\u001b[0m\u001b[1;33m)\u001b[0m\u001b[1;33m)\u001b[0m\u001b[1;33m\u001b[0m\u001b[1;33m\u001b[0m\u001b[0m\n\u001b[0;32m      5\u001b[0m     \u001b[0mpattern\u001b[0m \u001b[1;33m=\u001b[0m \u001b[0mre\u001b[0m\u001b[1;33m.\u001b[0m\u001b[0mcompile\u001b[0m\u001b[1;33m(\u001b[0m\u001b[1;34m'<p.*>(.*)</p>'\u001b[0m\u001b[1;33m)\u001b[0m\u001b[1;33m\u001b[0m\u001b[1;33m\u001b[0m\u001b[0m\n\u001b[1;32m----> 6\u001b[1;33m     \u001b[0mprint\u001b[0m\u001b[1;33m(\u001b[0m\u001b[0mpattern\u001b[0m\u001b[1;33m.\u001b[0m\u001b[0mfindall\u001b[0m\u001b[1;33m(\u001b[0m\u001b[0mcontent\u001b[0m\u001b[1;33m(\u001b[0m\u001b[1;36m0\u001b[0m\u001b[1;33m)\u001b[0m\u001b[1;33m)\u001b[0m\u001b[1;33m)\u001b[0m\u001b[1;33m\u001b[0m\u001b[1;33m\u001b[0m\u001b[0m\n\u001b[0m",
      "\u001b[1;31mTypeError\u001b[0m: 'str' object is not callable"
     ]
    }
   ],
   "source": [
    "import re\n",
    "with open('abc.txt', encoding=\"utf-8\") as f:\n",
    "    content = f.read().replace('\\n', '')\n",
    "    print(\"Content: {}\".format(content))\n",
    "    pattern = re.compile('<p.*>(.*)</p>')\n",
    "    print(pattern.findall(content(0)))"
   ]
  },
  {
   "cell_type": "code",
   "execution_count": null,
   "metadata": {},
   "outputs": [],
   "source": []
  },
  {
   "cell_type": "markdown",
   "metadata": {},
   "source": [
    "非贪婪模式\n",
    "finditer\n",
    "   "
   ]
  },
  {
   "cell_type": "code",
   "execution_count": 6,
   "metadata": {},
   "outputs": [
    {
     "name": "stdout",
     "output_type": "stream",
     "text": [
      "Content: <p style=\"width:200px;\">\t<strong>强调</> <br />\t我是标题1 <br />\t我是正文1</p><p style=\"width:200px;\">\t<strong>强调</> <br />\t我是标题2 <br />\t我是正文2</p>\n",
      "Item: <p style=\"width:200px;\">\t<strong>强调</> <br />\t我是标题1 <br />\t我是正文1</p>\n",
      "Item: <p style=\"width:200px;\">\t<strong>强调</> <br />\t我是标题2 <br />\t我是正文2</p>\n"
     ]
    }
   ],
   "source": [
    "import re\n",
    "with open('abc.txt', encoding=\"utf-8\") as f:\n",
    "    content = f.read().replace('\\n', '')\n",
    "    print(\"Content: {}\".format(content))\n",
    "    pattern = re.compile('<p.*?>(.*?)</p>')\n",
    "    for item in pattern.finditer(content):\n",
    "        print(\"Item: {}\".format(item.group()))"
   ]
  },
  {
   "cell_type": "code",
   "execution_count": 5,
   "metadata": {},
   "outputs": [
    {
     "name": "stdout",
     "output_type": "stream",
     "text": [
      "Content: <p style=\"width:200px;\">\t<strong>强调</> <br />\t我是标题1 <br />\t我是正文1</p><p style=\"width:200px;\">\t<strong>强调</> <br />\t我是标题2 <br />\t我是正文2</p>\n",
      "Item: \t<strong>强调</> <br />\t我是标题1 <br />\t我是正文1\n",
      "Item: \t<strong>强调</> <br />\t我是标题2 <br />\t我是正文2\n"
     ]
    }
   ],
   "source": [
    "import re\n",
    "with open('abc.txt', encoding=\"utf-8\") as f:\n",
    "    content = f.read().replace('\\n', '')\n",
    "    print(\"Content: {}\".format(content))\n",
    "    pattern = re.compile('<p.*?>(.*?)</p>')\n",
    "    for item in pattern.finditer(content):\n",
    "        print(\"Item: {}\".format(item.group(1)))"
   ]
  },
  {
   "cell_type": "markdown",
   "metadata": {},
   "source": [
    "贪婪模式\n",
    "finditer"
   ]
  },
  {
   "cell_type": "code",
   "execution_count": 13,
   "metadata": {},
   "outputs": [
    {
     "name": "stdout",
     "output_type": "stream",
     "text": [
      "Content: <p style=\"width:200px;\">\t<strong>强调</> <br />\t我是标题1 <br />\t我是正文1</p><p style=\"width:200px;\">\t<strong>强调</> <br />\t我是标题2 <br />\t我是正文2</p>\n",
      "Item: <p style=\"width:200px;\">\t<strong>强调</> <br />\t我是标题1 <br />\t我是正文1</p><p style=\"width:200px;\">\t<strong>强调</> <br />\t我是标题2 <br />\t我是正文2</p>\n"
     ]
    }
   ],
   "source": [
    "import re\n",
    "with open('abc.txt', encoding=\"utf-8\") as f:\n",
    "    content = f.read().replace('\\n', '')\n",
    "    print(\"Content: {}\".format(content))\n",
    "    pattern = re.compile('<p.*>(.*)</p>')\n",
    "    for item in pattern.finditer(content):\n",
    "        print(\"Item: {}\".format(item.group(0)))"
   ]
  },
  {
   "cell_type": "code",
   "execution_count": 8,
   "metadata": {
    "scrolled": true
   },
   "outputs": [
    {
     "name": "stdout",
     "output_type": "stream",
     "text": [
      "Content: <p style=\"width:200px;\">\t<strong>强调</> <br />\t我是标题1 <br />\t我是正文1</p><p style=\"width:200px;\">\t<strong>强调</> <br />\t我是标题2 <br />\t我是正文2</p>\n",
      "Item: <p style=\"width:200px;\">\t<strong>强调</> <br />\t我是标题1 <br />\t我是正文1</p><p style=\"width:200px;\">\t<strong>强调</> <br />\t我是标题2 <br />\t我是正文2</p>\n"
     ]
    }
   ],
   "source": [
    "import re\n",
    "with open('abc.txt', encoding=\"utf-8\") as f:\n",
    "    content = f.read().replace('\\n', '')\n",
    "    print(\"Content: {}\".format(content))\n",
    "    pattern = re.compile('<p.*>(.*)</p>')\n",
    "    for item in pattern.finditer(content):\n",
    "        print(\"Item: {}\".format(item.group()))\n"
   ]
  },
  {
   "cell_type": "code",
   "execution_count": 12,
   "metadata": {},
   "outputs": [
    {
     "name": "stdout",
     "output_type": "stream",
     "text": [
      "Content: <p style=\"width:200px;\">\t<strong>强调</> <br />\t我是标题1 <br />\t我是正文1</p><p style=\"width:200px;\">\t<strong>强调</> <br />\t我是标题2 <br />\t我是正文2</p>\n",
      "Item: \t我是正文2\n"
     ]
    }
   ],
   "source": [
    "import re\n",
    "with open('abc.txt', encoding=\"utf-8\") as f:\n",
    "    content = f.read().replace('\\n', '')\n",
    "    print(\"Content: {}\".format(content))\n",
    "    pattern = re.compile('<p.*>(.*)</p>')\n",
    "    for item in pattern.finditer(content):\n",
    "        print(\"Item: {}\".format(item.group(1)))"
   ]
  },
  {
   "cell_type": "code",
   "execution_count": null,
   "metadata": {},
   "outputs": [],
   "source": [
    "import re\n",
    "line = '13202095158'\n",
    "matchOjb = re.match(r'(\\d{3})(\\d{4})(\\d{4})', line)\n",
    "print(matchOjb.group())"
   ]
  }
 ],
 "metadata": {
  "kernelspec": {
   "display_name": "Python 3",
   "language": "python",
   "name": "python3"
  },
  "language_info": {
   "codemirror_mode": {
    "name": "ipython",
    "version": 3
   },
   "file_extension": ".py",
   "mimetype": "text/x-python",
   "name": "python",
   "nbconvert_exporter": "python",
   "pygments_lexer": "ipython3",
   "version": "3.8.3"
  }
 },
 "nbformat": 4,
 "nbformat_minor": 4
}
