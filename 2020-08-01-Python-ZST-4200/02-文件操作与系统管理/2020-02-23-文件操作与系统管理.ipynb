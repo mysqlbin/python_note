{
 "cells": [
  {
   "cell_type": "markdown",
   "metadata": {},
   "source": [
    "# 3.2  文件操作与系统管理"
   ]
  },
  {
   "cell_type": "markdown",
   "metadata": {},
   "source": [
    "## 文件基本读写操作"
   ]
  },
  {
   "cell_type": "markdown",
   "metadata": {},
   "source": [
    "### 文本文件读写"
   ]
  },
  {
   "cell_type": "markdown",
   "metadata": {},
   "source": [
    "现在有个文本文件\"test.txt\"，请使用Python读取这个文件的内容并打印"
   ]
  },
  {
   "cell_type": "code",
   "execution_count": null,
   "metadata": {
    "scrolled": true
   },
   "outputs": [],
   "source": [
    "f = open('test.txt')\n",
    "print(f.read())\n",
    "f.close()"
   ]
  },
  {
   "cell_type": "markdown",
   "metadata": {},
   "source": [
    "因为test.txt文件的编码是utf-8，但是用上面这种方式打开的编码默认是平台的gbk，那么如何改变编码呢？"
   ]
  },
  {
   "cell_type": "markdown",
   "metadata": {},
   "source": [
    "运行代码+ctrl + enter"
   ]
  },
  {
   "cell_type": "code",
   "execution_count": null,
   "metadata": {},
   "outputs": [],
   "source": [
    "f = open('test.txt', encoding='utf-8')\n",
    "print(f.read())\n",
    "f.close()"
   ]
  },
  {
   "cell_type": "code",
   "execution_count": null,
   "metadata": {},
   "outputs": [],
   "source": []
  },
  {
   "cell_type": "code",
   "execution_count": null,
   "metadata": {},
   "outputs": [],
   "source": [
    "常见的还有另外一种打开方式：上下文管理器\n",
    "推荐使用这种方式，当执行完成代码后，会自动执行 f.close() 关闭文件的操作。"
   ]
  },
  {
   "cell_type": "code",
   "execution_count": null,
   "metadata": {},
   "outputs": [],
   "source": [
    "with open(\"test.txt\", encoding='utf-8') as f:\n",
    "    print(f.read())\n"
   ]
  },
  {
   "cell_type": "markdown",
   "metadata": {},
   "source": [
    "这么写有什么好处？\n",
    "* 读写时发生异常会怎么样\n",
    "* 忘记close()会怎么样"
   ]
  },
  {
   "cell_type": "markdown",
   "metadata": {},
   "source": [
    "### 读取内容的几个方法"
   ]
  },
  {
   "cell_type": "markdown",
   "metadata": {},
   "source": [
    "#### read方法"
   ]
  },
  {
   "cell_type": "code",
   "execution_count": null,
   "metadata": {},
   "outputs": [],
   "source": [
    "with open('test.txt', encoding='utf-8') as f:\n",
    "    f_content = f.read() # 不加参数，默认读取全部\n",
    "    print(f_content)"
   ]
  },
  {
   "cell_type": "code",
   "execution_count": null,
   "metadata": {},
   "outputs": [],
   "source": [
    "with open('test.txt', encoding= 'utf-8') as f:\n",
    "    f_content = f.read(1) # 读取1个字符\n",
    "    print(f_content)"
   ]
  },
  {
   "cell_type": "code",
   "execution_count": null,
   "metadata": {},
   "outputs": [],
   "source": []
  },
  {
   "cell_type": "code",
   "execution_count": null,
   "metadata": {},
   "outputs": [],
   "source": [
    " with open('test.txt', encoding='utf-8') as f:\n",
    "    size_to_read = 10\n",
    "    f_content = f.read(size_to_read) # 每次读取10个字符\n",
    "    \n",
    "    while len(f_content) > 0:       # 遍历读取，直到读取结束\n",
    "        print(f_content, end='')\n",
    "        f_content = f.read(size_to_read)"
   ]
  },
  {
   "cell_type": "code",
   "execution_count": null,
   "metadata": {},
   "outputs": [],
   "source": [
    "with open('test.txt', encoding='utf-8') as f:\n",
    "    size_to_read = 10\n",
    "    f_content = f.read(size_to_read) # 每次读取10个字符\n",
    "    \n",
    "    while len(f_content) > 0:       # 遍历读取，直到读取结束\n",
    "        print(f_content)\n",
    "        f_content = f.read(size_to_read)"
   ]
  },
  {
   "cell_type": "markdown",
   "metadata": {},
   "source": [
    "#### readlines方法\n",
    "返回结果集是一个列表"
   ]
  },
  {
   "cell_type": "code",
   "execution_count": null,
   "metadata": {},
   "outputs": [],
   "source": [
    "with open('test.txt', encoding='utf-8') as f:\n",
    "    print(f.readlines())     # 一行一行地读取"
   ]
  },
  {
   "cell_type": "markdown",
   "metadata": {},
   "source": [
    "#### readline方法\n",
    "print(line, end='')：把每一行都真实地读取出来，每一行读取结束之后，接下来展示的一行就是空的，加 end='' 表示空行是不需要展示的。\n"
   ]
  },
  {
   "cell_type": "code",
   "execution_count": null,
   "metadata": {},
   "outputs": [],
   "source": [
    "with open('test.txt', encoding='utf-8') as f:\n",
    "    line = f.readline()      # 一次只能读取一行\n",
    "#     print(line)\n",
    "    while line:\n",
    "        print(line, end='')\n",
    "        line = f.readline()"
   ]
  },
  {
   "cell_type": "code",
   "execution_count": null,
   "metadata": {},
   "outputs": [],
   "source": [
    "with open('test.txt', encoding='utf-8') as f:\n",
    "    line = f.readline()      # 一行一行地读取（一次读取一行）\n",
    "    while line:\n",
    "        print(line.encode())\n",
    "        line = f.readline()"
   ]
  },
  {
   "cell_type": "code",
   "execution_count": null,
   "metadata": {},
   "outputs": [],
   "source": [
    "with open('test.txt', encoding='utf-8') as f:\n",
    "    line = f.readline()      # 一行一行地读取（一次读取一行）\n",
    "    while line:\n",
    "        print(line)\n",
    "        line = f.readline()"
   ]
  },
  {
   "cell_type": "markdown",
   "metadata": {},
   "source": [
    "#### 迭代器"
   ]
  },
  {
   "cell_type": "code",
   "execution_count": null,
   "metadata": {},
   "outputs": [],
   "source": [
    "with open('test.txt', encoding='utf-8') as f:\n",
    "    for line in f:\n",
    "        print(line, end='')"
   ]
  },
  {
   "cell_type": "markdown",
   "metadata": {},
   "source": [
    "#### seek\n",
    "断点续读\n",
    "假设有100行记录，按行读取，当读取到50行的时候，发生宕机了，通过 seek ，会从第50行继续读取。\n",
    "\n",
    "tell  用来输出文件当前光标所处的位置；\n",
    "seek  用来指定光标要移动到的位置。\n",
    "\n",
    "test.txt的内容如下：\n",
    "12345678\n",
    "aaa"
   ]
  },
  {
   "cell_type": "code",
   "execution_count": null,
   "metadata": {},
   "outputs": [],
   "source": [
    "with open('test.txt', encoding='utf-8') as f:\n",
    "    size_to_read = 7\n",
    "    line = f.read(size_to_read)\n",
    "    print(line)\n",
    "    print(f.tell)\n",
    "    print(f.tell())\n",
    "    \n",
    "    f.seek(0)\n",
    "    \n",
    "    print(f.tell)\n",
    "    print(f.tell())\n",
    "    \n",
    "    line = f.read(size_to_read)\n",
    "    print(line)"
   ]
  },
  {
   "cell_type": "code",
   "execution_count": null,
   "metadata": {
    "scrolled": true
   },
   "outputs": [],
   "source": [
    "with open('test.txt', encoding='utf-8') as f:\n",
    "    size_to_read = 7\n",
    "    line = f.read(size_to_read)\n",
    "    print(line)\n",
    "    print(f.tell)  # tell对象\n",
    "    print(f.tell()) # tell()方法，查看读取的位置\n",
    "    \n",
    "    f.seek(1)\n",
    "    \n",
    "    print(f.tell)   # tell对象\n",
    "    print(f.tell()) # tell()方法，查看读取的位置\n",
    "    \n",
    "    line = f.read(size_to_read)\n",
    "    print(line)"
   ]
  },
  {
   "cell_type": "code",
   "execution_count": null,
   "metadata": {},
   "outputs": [],
   "source": [
    "with open('test.txt', encoding='utf-8') as f:\n",
    "    size_to_read = 7\n",
    "    line = f.read(size_to_read)\n",
    "    print(line)\n",
    "    print(f.tell)  # tell对象\n",
    "    print(f.tell()) # tell()方法，查看读取的位置\n",
    "    \n",
    "    f.seek(2)\n",
    "    \n",
    "    print(f.tell)   # tell对象\n",
    "    print(f.tell()) # tell()方法，查看读取的位置\n",
    "    \n",
    "    line = f.read(size_to_read)\n",
    "    print(line)"
   ]
  },
  {
   "cell_type": "code",
   "execution_count": null,
   "metadata": {},
   "outputs": [],
   "source": [
    "with open('test.txt', encoding='utf-8') as f:\n",
    "    size_to_read = 7\n",
    "    line = f.read(size_to_read)\n",
    "    print(line)\n",
    "    print(f.tell)  # tell对象\n",
    "    print(f.tell()) # tell()方法，查看读取的位置\n",
    "    \n",
    "    f.seek(9)\n",
    "    \n",
    "    print(f.tell)   # tell对象\n",
    "    print(f.tell()) # tell()方法，查看读取的位置\n",
    "    \n",
    "    line = f.read(size_to_read)\n",
    "    print(line)"
   ]
  },
  {
   "cell_type": "markdown",
   "metadata": {},
   "source": [
    "### 文本文件的写入"
   ]
  },
  {
   "cell_type": "code",
   "execution_count": null,
   "metadata": {},
   "outputs": [],
   "source": [
    "with open(\"tmp.txt\", \"w\") as f:\n",
    "    f.write(\"Python知数堂\")"
   ]
  },
  {
   "cell_type": "code",
   "execution_count": null,
   "metadata": {},
   "outputs": [],
   "source": [
    "with open(\"tmp.txt\", \"a\") as f:\n",
    "    f.write(\"Python知数堂\")\n",
    "    f.read()"
   ]
  },
  {
   "cell_type": "code",
   "execution_count": null,
   "metadata": {},
   "outputs": [],
   "source": [
    "with open(\"tmp.txt\", \"x\") as f:\n",
    "    f.write(\"Python知数堂\")"
   ]
  },
  {
   "cell_type": "code",
   "execution_count": null,
   "metadata": {},
   "outputs": [],
   "source": [
    "with open(\"tmp2.txt\", \"x\") as f:\n",
    "    f.write(\"Python知数堂666\")"
   ]
  },
  {
   "cell_type": "markdown",
   "metadata": {},
   "source": [
    "### 可读可写"
   ]
  },
  {
   "cell_type": "code",
   "execution_count": null,
   "metadata": {},
   "outputs": [],
   "source": [
    "with open(\"tmp4.txt\", \"w+\") as f:\n",
    "    print(f.read(1))\n",
    "    f.seek(1)   # 从1的位置开始写\n",
    "    f.write(\"Python知数堂-文件读写\")\n",
    "    \"\"\"输出: Python知数堂-文件读写；其中 '输出:'和 'Python' 之间有一个空格。\"\"\"\n",
    "#     print(f.tell())"
   ]
  },
  {
   "cell_type": "code",
   "execution_count": null,
   "metadata": {},
   "outputs": [],
   "source": [
    "with open(\"tmp3.txt\", \"w+\") as f:\n",
    "    print(f.read(1))\n",
    "    print(f.tell())\n",
    "    f.seek(1)   # 从1的位置开始写\n",
    "    f.write(\"Python知数堂-文件读写\")\n",
    "    \"\"\"输出: Python知数堂-文件读写；其中 '输出:'和 'Python' 之间有一个空格。\"\"\"\n",
    "#     print(f.tell())"
   ]
  },
  {
   "cell_type": "code",
   "execution_count": null,
   "metadata": {},
   "outputs": [],
   "source": [
    "with open(\"tmp7.txt\", \"w+\") as f:\n",
    "    print(f\"tell: {f.tell()}\")\n",
    "    f.write(\"Python知数堂-文件读写\")\n",
    "    print(f\"tell: {f.tell()}\")\n",
    "    print(f.read())"
   ]
  },
  {
   "cell_type": "markdown",
   "metadata": {},
   "source": [
    "### 文件读写描述符\n",
    "* 'r' 读取，默认选项\n",
    "* 'w' 不存在则创建，存在就覆盖\n",
    "* 'x'  写入，如果文件存在就报错\n",
    "* 'w+' 可读可写，若文件不存在，创建\n",
    "* 'r+' 可读可写，若文件不存在，报错\n",
    "* 'a' 附加写方式打开，不可读\n",
    "* 'a+' 附加读写方式打开"
   ]
  },
  {
   "cell_type": "markdown",
   "metadata": {},
   "source": [
    "### 二进制文件读写+错误处理"
   ]
  },
  {
   "cell_type": "markdown",
   "metadata": {},
   "source": [
    "有的时候会遇到一些文件，用utf-8打开会报错，用gbk打开也会报错，那怎么办呢?  \n",
    "首先利用python**写二进制数据**构造这么一个文件，在utf-8的文件后面append一个gb2312编码的字符  \n",
    "read_error.txt是一个已经存在的文件，其编码格式是utf-8"
   ]
  },
  {
   "cell_type": "code",
   "execution_count": null,
   "metadata": {},
   "outputs": [],
   "source": [
    "with open(\"read_error.txt\", 'ab') as f:   #ab是什么意思\n",
    "    f.write(b'\\xCE\\xD2')"
   ]
  },
  {
   "cell_type": "code",
   "execution_count": null,
   "metadata": {},
   "outputs": [],
   "source": [
    "with open(\"read_error.txt\", \"rb\") as f:\n",
    "    print(f.read())"
   ]
  },
  {
   "cell_type": "markdown",
   "metadata": {},
   "source": [
    "对于这样的文件，我们先尝试用utf-8的编码格式读取一下"
   ]
  },
  {
   "cell_type": "code",
   "execution_count": null,
   "metadata": {},
   "outputs": [],
   "source": [
    "with open(\"read_error.txt\", encoding='utf-8') as f:\n",
    "    size_to_read = 10\n",
    "    print(f.read())"
   ]
  },
  {
   "cell_type": "code",
   "execution_count": null,
   "metadata": {},
   "outputs": [],
   "source": [
    "with open(\"read_error.txt\", encoding='gbk') as f:\n",
    "    print(f.read())"
   ]
  },
  {
   "cell_type": "markdown",
   "metadata": {},
   "source": [
    "不管用哪种方式，都会报错。对于这种文件，需要调用open方法时指定errors参数"
   ]
  },
  {
   "cell_type": "code",
   "execution_count": null,
   "metadata": {},
   "outputs": [],
   "source": [
    "with open(\"read_error.txt\", encoding=\"utf-8\", errors=\"strict\") as f:\n",
    "    print(f.read())"
   ]
  },
  {
   "cell_type": "code",
   "execution_count": null,
   "metadata": {},
   "outputs": [],
   "source": [
    "with open(\"read_error.txt\", encoding=\"utf-8\", errors=\"ignore\") as f:\n",
    "    print(f.read())"
   ]
  },
  {
   "cell_type": "code",
   "execution_count": null,
   "metadata": {},
   "outputs": [],
   "source": []
  },
  {
   "cell_type": "code",
   "execution_count": null,
   "metadata": {
    "scrolled": true
   },
   "outputs": [],
   "source": [
    "with open(\"read_error.txt\", encoding=\"utf-8\", errors=\"replace\") as f:\n",
    "    print(f.read())"
   ]
  },
  {
   "cell_type": "code",
   "execution_count": null,
   "metadata": {},
   "outputs": [],
   "source": [
    "with open(\"read_error.txt\", encoding=\"utf-8\", errors=\"surrogateescape\") as f:\n",
    "    print(f.read())"
   ]
  },
  {
   "cell_type": "code",
   "execution_count": null,
   "metadata": {},
   "outputs": [],
   "source": [
    "open方法的errors参数一共有这么几个选项：\n",
    "* strict  # 默认值\n",
    "* ignore  # 读取到错误的内容就忽略掉\n",
    "* replace # 读取到错误的内容会被替换为 ����\n",
    "* surrogateescape\n",
    "* xmlcharrefreplace 只支持写\n",
    "* backslashreplace\n",
    "* namereplace 只支持写"
   ]
  },
  {
   "cell_type": "code",
   "execution_count": null,
   "metadata": {
    "scrolled": true
   },
   "outputs": [],
   "source": [
    "with open(\"write_error0.txt\", mode=\"w\", encoding=\"gbk\") as wf:\n",
    "    wf.write('😁')\n",
    "    # UnicodeEncodeError: 'gbk' codec can't encode character '\\U0001f601' in position 0: illegal multibyte sequence"
   ]
  },
  {
   "cell_type": "code",
   "execution_count": null,
   "metadata": {},
   "outputs": [],
   "source": [
    "# 写的情况，写入的内容为：\\U0001f601\n",
    "with open(\"write_error.txt\", mode=\"w\", encoding=\"gbk\", errors=\"backslashreplace\") as wf:\n",
    "    wf.write('😁')"
   ]
  },
  {
   "cell_type": "markdown",
   "metadata": {},
   "source": [
    "当不清楚目标文件的编码，且只想要修改ASCII编码的部分，那么就可以使用surrogateescape参数"
   ]
  },
  {
   "cell_type": "code",
   "execution_count": null,
   "metadata": {},
   "outputs": [],
   "source": [
    "print(1)\n",
    "with open('read_error_surrogateescape.txt', 'r', encoding=\"ascii\", errors=\"surrogateescape\") as f:\n",
    "    data = f.read()\n",
    "\n",
    "with open('write_error_surrogateescape.txt', 'w',\n",
    "          encoding=\"ascii\", errors=\"surrogateescape\") as f:\n",
    "    f.write(data)"
   ]
  },
  {
   "cell_type": "markdown",
   "metadata": {},
   "source": [
    "## 数据持久化\n",
    "\n",
    "### Shelve\n",
    "Shelve是对象持久化保存方法，将对象保存到文件里面，缺省（即默认）的数据存储文件是二进制的。  \n",
    "可以作为一个简单的数据存储方案。  \n",
    "shelve的key要求必须是字符串，value则可以是任意合法的python数据类型。  "
   ]
  },
  {
   "cell_type": "code",
   "execution_count": null,
   "metadata": {},
   "outputs": [],
   "source": [
    "import shelve\n",
    "\n",
    "with shelve.open('shelve') as sdb:\n",
    "    sdb['a'] = 'b'\n",
    "    sdb['a'] = {\n",
    "        'c': 'c'\n",
    "    }\n",
    "\n",
    "with shelve.open('shelve') as sdb:\n",
    "    print(sdb.get('a'))"
   ]
  },
  {
   "cell_type": "markdown",
   "metadata": {},
   "source": [
    "### pickle"
   ]
  },
  {
   "cell_type": "code",
   "execution_count": null,
   "metadata": {},
   "outputs": [],
   "source": [
    "import pickle\n",
    " \n",
    "example_dict = {1: '6', 2:'2', 3:'f'}\n",
    "\n",
    "pickle_out = open(\"dict.pickle\", \"wb\")\n",
    "pickle.dump(example_dict, pickle_out)\n",
    "pickle_out.close()\n",
    "\n",
    "example_dict = {}\n",
    "\n",
    "pickle_in = open(\"dict.pickle\", \"rb\")\n",
    "example_dict = pickle.load(pickle_in)\n",
    "pickle_in.close()\n",
    "\n",
    "print(example_dict)"
   ]
  },
  {
   "cell_type": "markdown",
   "metadata": {},
   "source": [
    "### json\n",
    "json.dumps() 函数\n",
    "   表示接受 Python 的基本数据类型，然后将其序列化为 string；\n",
    "json.loads() 函数\n",
    "    表示接受一个合法字符串，然后将其反序列化为 Python 的基本数据类型（字典）。"
   ]
  },
  {
   "cell_type": "code",
   "execution_count": null,
   "metadata": {
    "scrolled": true
   },
   "outputs": [],
   "source": [
    "import json \n",
    "\n",
    "example_dict = {1: '6', 2:'2', 3:'a'}   #字典\n",
    "json_str = json.dumps(example_dict)\n",
    "print('type:{},content:{}'.format(type(json_str),json_str))\n",
    "\n",
    "de_json = json.loads(json_str)\n",
    "print('type:{},content:{}'.format(type(de_json),de_json))\n",
    "\n",
    "with open(\"dict.json\", \"w\") as f:\n",
    "    json.dump(example_dict, f)\n",
    "\n",
    "with open(\"dict.json\", \"r\") as f:\n",
    "    j_dict = json.load(f)\n",
    "    print('type:{},content:{}'.format(type(j_dict),j_dict))\n"
   ]
  },
  {
   "cell_type": "markdown",
   "metadata": {},
   "source": [
    "## 文件系统\n",
    "### 获取一个文件夹下的所有文件"
   ]
  },
  {
   "cell_type": "code",
   "execution_count": null,
   "metadata": {
    "scrolled": true
   },
   "outputs": [],
   "source": [
    "import os\n",
    "cur_path = './'\n",
    "if os.path.isdir(cur_path):\n",
    "    files = os.listdir(cur_path)   # 返回指定路径下的文件和文件夹列表。返回结果的数据类型是一个列表\n",
    "#     print(files)\n",
    "    for file in files:\n",
    "        # print(file)\n",
    "        print(os.path.join('usr', file))"
   ]
  },
  {
   "cell_type": "markdown",
   "metadata": {},
   "source": [
    "### os.path下面的实用函数"
   ]
  },
  {
   "cell_type": "markdown",
   "metadata": {},
   "source": [
    "* os.path.isfile(path) 判断路径是否为文件\n",
    "* os.path.isdir(path) 判断路径是否为目录\n",
    "* os.path.basename(path) 返回文件名\n",
    "* os.path.dirname(path) 返回文件路径\n",
    "* os.path.exists(path) 如果路径 path 存在，返回 True；如果路径 path 不存在，返回 False。 这里需要注意的是，如果是一个link文件，如果link文件的目标文件不存在，那么也会返回false。\n",
    "* os.path.lexists(path) 基本和exists一样，就针对link文件的逻辑相反\n",
    "* os.path.join(path1[, path2[, ...]])\t把目录和文件名合成一个路径\n",
    "* os.path.split(path) 把路径分割成 dirname 和 basename，返回一个元组\n",
    "* os.path.realpath(path) 返回path的真实路径\n",
    "* os.path.normpath(path) 规范path字符串形式\n",
    "* os.rename(src, dst) 用于命名文件或目录，从 src 到 dst,如果dst是一个存在的目录, 将抛出OSError。\n",
    "* os.path.splitext(filename)\n",
    "\n",
    "os.listdir(cur_path)\n"
   ]
  },
  {
   "cell_type": "markdown",
   "metadata": {},
   "source": [
    "### 文件夹遍历"
   ]
  },
  {
   "cell_type": "code",
   "execution_count": null,
   "metadata": {},
   "outputs": [],
   "source": [
    "import os\n",
    "\n",
    "g = os.walk('../../')\n",
    "\n",
    "for path, dir_list, file_list in g:\n",
    "    print(\"Path:\" + os.path.normpath(path))\n",
    "    for file_name in file_list:\n",
    "        print(os.path.join(path, file_name))"
   ]
  },
  {
   "cell_type": "markdown",
   "metadata": {},
   "source": [
    "### shutil模块"
   ]
  },
  {
   "cell_type": "code",
   "execution_count": null,
   "metadata": {},
   "outputs": [],
   "source": [
    "import shutil\n",
    "\n",
    "# 将文件内容拷贝到另一个文件中\n",
    "shutil.copyfileobj(open('old.txt', 'r'), open('new.txt', 'w'))\n",
    "\n",
    "# 拷贝文件\n",
    "shutil.copyfile('old.txt', 'old1.txt')\n",
    "\n",
    "# 仅拷贝权限。内容、组、用户均不变\n",
    "shutil.copymode('old.txt', 'old1.txt')\n",
    "\n",
    "# 复制权限、最后访问时间、最后修改时间\n",
    "shutil.copystat('old.txt', 'old1.txt')\n",
    "\n",
    "# 复制一个文件到一个文件或一个目录\n",
    "shutil.copy('old.txt', 'old2.txt')\n",
    "\n",
    "# 在copy上的基础上再复制文件最后访问时间与修改时间也复制过来了\n",
    "shutil.copy2('old.txt', 'old2.txt')\n",
    "\n",
    "# 把olddir拷贝一份newdir，如果第3个参数是True，则复制目录时将保持文件夹下的符号连接，如果第3个参数是False，则将在复制的目录下生成物理副本来替代符号连接\n",
    "shutil.copytree('C:/Users/xiaoxinsoso/Desktop/aaa', 'C:/Users/xiaoxinsoso/Desktop/bbb')\n",
    "\n",
    "# 移动目录或文件\n",
    "shutil.move('C:/Users/xiaoxinsoso/Desktop/aaa', 'C:/Users/xiaoxinsoso/Desktop/bbb') # 把aaa目录移动到bbb目录下\n",
    "\n",
    "# 删除一个目录\n",
    "shutil.rmtree('C:/Users/xiaoxinsoso/Desktop/bbb') # 删除bbb目录"
   ]
  },
  {
   "cell_type": "markdown",
   "metadata": {},
   "source": [
    "## 压缩文件处理"
   ]
  },
  {
   "cell_type": "markdown",
   "metadata": {},
   "source": [
    "### zipfile 模块"
   ]
  },
  {
   "cell_type": "code",
   "execution_count": null,
   "metadata": {},
   "outputs": [],
   "source": [
    "import zipfile\n",
    "import os\n",
    "\n",
    "os.chdir(\"./compress_file\")\n",
    "\n",
    "# 也可以使用context manager\n",
    "my_zip = zipfile.ZipFile('files.zip', 'w')\n",
    "\n",
    "# 如果文件大于2G\n",
    "# zipfile.ZipFile('files.zip', 'w', zipfile.ZIP_DEFLATED, True)\n",
    "\n",
    "my_zip.write('test.txt')\n",
    "my_zip.write('img.jpg', 'head.jpg')\n",
    "\n",
    "\n",
    "my_zip.close()\n",
    "\n",
    "os.chdir(\"../\")"
   ]
  },
  {
   "cell_type": "code",
   "execution_count": null,
   "metadata": {},
   "outputs": [],
   "source": [
    "os.chdir(\"./compress_file\")\n",
    "\n",
    "with zipfile.ZipFile('files.zip', 'r') as z:\n",
    "    # 查看压缩包中的文件列表\n",
    "    print(z.namelist())     \n",
    "    \n",
    "    # 读出来压缩包中的第一个文件的内容打印到屏幕，也可保存到文件中\n",
    "    print(z.read(z.namelist()[0]))  \n",
    "    \n",
    "    # 解压，可选择解压某个文件\n",
    "    z.extract('test.txt')   \n",
    "    # z.extractall('aaa')      \n",
    "    # 解压，可设置解压路径\n",
    "    #    \n",
    "    \n",
    "    # 解压全部\n",
    "    z.extractall('../')      \n",
    "    \n",
    "os.chdir(\"../\")"
   ]
  },
  {
   "cell_type": "markdown",
   "metadata": {},
   "source": [
    "其他可能会用到的\n",
    "* zipfile.is_zipfile(filename)  判断是不是zip文件"
   ]
  },
  {
   "cell_type": "markdown",
   "metadata": {},
   "source": [
    "### shutil-zip"
   ]
  },
  {
   "cell_type": "code",
   "execution_count": null,
   "metadata": {},
   "outputs": [],
   "source": [
    "shutil.make_archive('zipname', 'zip', './files')\n",
    "shutil.unpack_archive('zipname.zip', './another')"
   ]
  },
  {
   "cell_type": "markdown",
   "metadata": {},
   "source": [
    "format 参数\n",
    "* zip\n",
    "* tar\n",
    "* gztar\n",
    "* bztar\n",
    "* xztar"
   ]
  },
  {
   "cell_type": "markdown",
   "metadata": {},
   "source": [
    "## 调用shell命令\n",
    "### os.system\n",
    "#### 缺点：捕获不到输出的值"
   ]
  },
  {
   "cell_type": "markdown",
   "metadata": {},
   "source": [
    "该方法在调用完shell脚本后，返回一个16位的二进制数，低位为杀死所调用脚本的信号号码，高位为脚本的退出状态码。\n",
    "返回的结果都是0（使用位运算向右位移8位得到的结果就是高位值），代表代码正常退出。\n",
    "我们如果需要的到脚本执行后返回的状态码，可以使用位运算得到。"
   ]
  },
  {
   "cell_type": "markdown",
   "metadata": {},
   "source": [
    "```shell\n",
    "#!/bin/bash\n",
    "date\n",
    "sleep 2\n",
    "date >&2   #重定向到stderr\n",
    "exit 1\n",
    "```"
   ]
  },
  {
   "cell_type": "code",
   "execution_count": null,
   "metadata": {},
   "outputs": [],
   "source": [
    "import os\n",
    " \n",
    "status = os.system('sh ./a.sh')\n",
    "print(status)\n",
    "print(status & 127)\n",
    "print(status>>8)"
   ]
  },
  {
   "cell_type": "markdown",
   "metadata": {},
   "source": [
    "可以看到，在shell命令运行期间，按下ctrl+c，status的低位发生了变化。 `kill -l` 则会输出所有系统信号。  \n",
    "*** 如果只是单纯地执行一个shell脚本，只关心这个脚本是否运行成功，可以使用os.system ***"
   ]
  },
  {
   "cell_type": "markdown",
   "metadata": {},
   "source": [
    "### popen"
   ]
  },
  {
   "cell_type": "code",
   "execution_count": null,
   "metadata": {},
   "outputs": [],
   "source": [
    "import os\n",
    "\n",
    "tmp = os.popen(\"ls -alh\").readlines() # read()方法也可以调用\n",
    "print(tmp)"
   ]
  },
  {
   "cell_type": "markdown",
   "metadata": {},
   "source": [
    "### subprocess模块"
   ]
  },
  {
   "cell_type": "markdown",
   "metadata": {},
   "source": [
    "如果只是简单地调用一个命令(linux平台)"
   ]
  },
  {
   "cell_type": "code",
   "execution_count": null,
   "metadata": {},
   "outputs": [],
   "source": [
    "import subprocess\n",
    "\n",
    "s = subprocess.run('ls')"
   ]
  },
  {
   "cell_type": "code",
   "execution_count": null,
   "metadata": {},
   "outputs": [],
   "source": [
    "如果你想加一些参数"
   ]
  },
  {
   "cell_type": "code",
   "execution_count": null,
   "metadata": {},
   "outputs": [],
   "source": [
    "import subprocess\n",
    "\n",
    "s = subprocess.run(['ls', '-alh'])"
   ]
  },
  {
   "cell_type": "code",
   "execution_count": null,
   "metadata": {},
   "outputs": [],
   "source": [
    "import subprocess\n",
    "subprocess.run('ls -alh', shell=True)"
   ]
  },
  {
   "cell_type": "markdown",
   "metadata": {},
   "source": [
    "在windows平台，调用shell命令，必须添加shell=True的参数   "
   ]
  },
  {
   "cell_type": "code",
   "execution_count": null,
   "metadata": {},
   "outputs": [],
   "source": [
    "import subprocess\n",
    "\n",
    "subprocess.run('move test.txt test2.txt', shell=True)"
   ]
  },
  {
   "cell_type": "markdown",
   "metadata": {},
   "source": [
    "### 调用shell命令"
   ]
  },
  {
   "cell_type": "code",
   "execution_count": null,
   "metadata": {},
   "outputs": [],
   "source": [
    "如果a.sh没有执行的权限，可以这么写"
   ]
  },
  {
   "cell_type": "code",
   "execution_count": null,
   "metadata": {},
   "outputs": [],
   "source": [
    "import subprocess\n",
    "\n",
    "s = subprocess.run(['sh','./a.sh'])\n",
    "print(s)\n",
    "print(f\"Args: {s.args}, ReturnCode: {s.returncode}， Output: {s.stdout}\")"
   ]
  },
  {
   "cell_type": "markdown",
   "metadata": {},
   "source": [
    "把输出保存在一个变量当中,原理与shell的重定向符号类似: 加入catpure_output=True的参数"
   ]
  },
  {
   "cell_type": "code",
   "execution_count": null,
   "metadata": {},
   "outputs": [],
   "source": [
    "import subprocess\n",
    "\n",
    "s = subprocess.run(['sh', './a.sh'], capture_output=True)\n",
    "print(s)\n",
    "print(f\"Args: {s.args}, ReturnCode: {s.returncode}, Output: {s.stdout},{s.stderr}\")"
   ]
  },
  {
   "cell_type": "markdown",
   "metadata": {},
   "source": [
    "上面这个命令输出的是字节，如果想直接获得字符串，加入text=True的参数"
   ]
  },
  {
   "cell_type": "code",
   "execution_count": null,
   "metadata": {},
   "outputs": [],
   "source": [
    "import subprocess\n",
    "\n",
    "s = subprocess.run(['sh', './a.sh'], capture_output=True, text=True)\n",
    "print(s)\n",
    "print(f\"Args: {s.args}, ReturnCode: {s.returncode}, Output: {s.stdout}\")"
   ]
  },
  {
   "cell_type": "markdown",
   "metadata": {},
   "source": [
    "还可能还见到另外一种形式"
   ]
  },
  {
   "cell_type": "code",
   "execution_count": null,
   "metadata": {},
   "outputs": [],
   "source": [
    "s = subprocess.run(['sh', './a.sh'], stdout=subprocess.PIPE)\n",
    "print(s)\n",
    "print(f\"Args: {s.args}, ReturnCode: {s.returncode}, Output: {s.stdout},{s.stderr}\")"
   ]
  },
  {
   "cell_type": "markdown",
   "metadata": {},
   "source": [
    "stdout参数也可以是一个文件对象"
   ]
  },
  {
   "cell_type": "code",
   "execution_count": null,
   "metadata": {},
   "outputs": [],
   "source": [
    "fp = open(\"a.txt\", \"w\")\n",
    "s = subprocess.run(['sh', './a.sh'], stdout=fp)\n",
    "print(s)\n",
    "print(f\"Args: {s.args}, ReturnCode: {s.returncode}, Output: {s.stdout},{s.stderr}\")\n",
    "fp.close()"
   ]
  },
  {
   "cell_type": "markdown",
   "metadata": {},
   "source": [
    "***错误检查***，可以检查run()命令返回值中的returncode。如果希望当命令执行失败的时候，抛出异常"
   ]
  },
  {
   "cell_type": "code",
   "execution_count": null,
   "metadata": {},
   "outputs": [],
   "source": [
    "import subprocess\n",
    "\n",
    "s = subprocess.run(['sh', './a.sh'], capture_output=True, check=True)\n",
    "print(s)\n",
    "print(f\"Args: {s.args}, ReturnCode: {s.returncode}, Output: {s.stdout},{s.stderr}\")"
   ]
  },
  {
   "cell_type": "markdown",
   "metadata": {},
   "source": [
    "使用input参数"
   ]
  },
  {
   "cell_type": "code",
   "execution_count": null,
   "metadata": {},
   "outputs": [],
   "source": [
    "import subprocess\n",
    "\n",
    "p1 = subprocess.run(['cat', 'a.txt'], capture_output=True, text=True)\n",
    "print('a.txt:\\n' + p1.stdout)\n",
    "\n",
    "p2 = subprocess.run(['sort', '-nr'], input=p1.stdout, capture_output=True, text=True)\n",
    "print('After sort:\\n' + p2.stdout)"
   ]
  },
  {
   "cell_type": "markdown",
   "metadata": {},
   "source": [
    "上面这样的方式显然看起来很麻烦"
   ]
  },
  {
   "cell_type": "code",
   "execution_count": null,
   "metadata": {},
   "outputs": [],
   "source": [
    "import subprocess\n",
    "\n",
    "p1 = subprocess.run(\"cat a.txt | sort -nr\", capture_output=True, text=True, shell=True)\n",
    "print('sort a.txt:\\n' + p1.stdout)"
   ]
  }
 ],
 "metadata": {
  "kernelspec": {
   "display_name": "Python 3",
   "language": "python",
   "name": "python3"
  },
  "language_info": {
   "codemirror_mode": {
    "name": "ipython",
    "version": 3
   },
   "file_extension": ".py",
   "mimetype": "text/x-python",
   "name": "python",
   "nbconvert_exporter": "python",
   "pygments_lexer": "ipython3",
   "version": "3.8.3"
  }
 },
 "nbformat": 4,
 "nbformat_minor": 2
}
